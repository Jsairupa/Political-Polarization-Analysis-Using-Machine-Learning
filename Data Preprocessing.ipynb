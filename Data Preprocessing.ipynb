{
 "cells": [
  {
   "cell_type": "code",
   "execution_count": 2,
   "id": "4fb3632b-5a0c-482f-8936-f643a413f9b9",
   "metadata": {},
   "outputs": [],
   "source": [
    "import os\n",
    "import pandas as pd"
   ]
  },
  {
   "cell_type": "code",
   "execution_count": 3,
   "id": "f17e4c36-611d-4e37-b42c-81e6cda962b0",
   "metadata": {},
   "outputs": [],
   "source": [
    "main_path = \"political_dataset/Data_News_2024/\"\n",
    "news_data_folders = [x for x in os.listdir(main_path) if \".zip\" not in x]"
   ]
  },
  {
   "cell_type": "code",
   "execution_count": null,
   "id": "62984f61-67f3-46b6-8552-2297396503e2",
   "metadata": {},
   "outputs": [],
   "source": []
  },
  {
   "cell_type": "code",
   "execution_count": 4,
   "id": "9ad2c0eb-756a-4867-8079-93e0aec4d906",
   "metadata": {},
   "outputs": [],
   "source": [
    "cnn_path = main_path + \"AAAI2024CNNCommentsParsed/\""
   ]
  },
  {
   "cell_type": "code",
   "execution_count": 5,
   "id": "17a77980-274c-49ce-aa92-b7ca2372c2cb",
   "metadata": {},
   "outputs": [
    {
     "data": {
      "text/plain": [
       "'political_dataset/Data_News_2024/AAAI2024CNNCommentsParsed/'"
      ]
     },
     "execution_count": 5,
     "metadata": {},
     "output_type": "execute_result"
    }
   ],
   "source": [
    "cnn_path"
   ]
  },
  {
   "cell_type": "code",
   "execution_count": 6,
   "id": "81b8b081-035b-4165-8f56-f4e5720b4f65",
   "metadata": {},
   "outputs": [
    {
     "data": {
      "text/plain": [
       "['metadata', 'extracted_text_cnn', 'jsonbyline']"
      ]
     },
     "execution_count": 6,
     "metadata": {},
     "output_type": "execute_result"
    }
   ],
   "source": [
    "os.listdir(cnn_path)"
   ]
  },
  {
   "cell_type": "code",
   "execution_count": 7,
   "id": "71b97410-6d22-4cbe-8a50-0c0a06c3a5c4",
   "metadata": {},
   "outputs": [],
   "source": [
    "#os.listdir(cnn_path+\"metadata\")"
   ]
  },
  {
   "cell_type": "code",
   "execution_count": 8,
   "id": "1df3ec86-217e-4922-884a-262365c284f2",
   "metadata": {},
   "outputs": [],
   "source": [
    "#open(\"political_dataset/Data_News_2024/AAAI2024CNNCommentsParsed/jsonbyline/3FIpwVJffXk_jsonbyline.txt\").read()"
   ]
  },
  {
   "cell_type": "code",
   "execution_count": 9,
   "id": "5c58fe96-bb89-448c-9e57-11253e42bf53",
   "metadata": {},
   "outputs": [],
   "source": [
    "df = pd.read_csv(\"political_dataset/Data_News_2024/AAAI2024CNNCommentsParsed/metadata/dzl5Yx5-hDw_metadata.csv\")"
   ]
  },
  {
   "cell_type": "code",
   "execution_count": 10,
   "id": "5d7acb6c-28e5-4904-9091-76850e9fc9d6",
   "metadata": {},
   "outputs": [],
   "source": [
    "from tqdm import tqdm"
   ]
  },
  {
   "cell_type": "code",
   "execution_count": 11,
   "id": "53f4567e-647e-4f10-837e-465cc4dd99a4",
   "metadata": {},
   "outputs": [
    {
     "name": "stderr",
     "output_type": "stream",
     "text": [
      "100%|██████████| 2256/2256 [00:51<00:00, 44.05it/s]\n",
      "100%|██████████| 7186/7186 [02:35<00:00, 46.22it/s]\n",
      "100%|██████████| 17942/17942 [05:44<00:00, 52.12it/s]\n"
     ]
    }
   ],
   "source": [
    "dataframe = []\n",
    "for news in news_data_folders:\n",
    "    news_data_path = main_path+news+\"/metadata/\"\n",
    "    news_data = os.listdir(news_data_path)\n",
    "    for file in tqdm(news_data):\n",
    "        df = pd.read_csv(news_data_path+file)\n",
    "        df['news'] = [news]*len(df)\n",
    "        dataframe.append(df)\n",
    "df_final = pd.concat(dataframe, ignore_index=True)"
   ]
  },
  {
   "cell_type": "code",
   "execution_count": 12,
   "id": "95e05147-b416-48fb-9b07-bb79b111f6cc",
   "metadata": {},
   "outputs": [],
   "source": [
    "df_final.to_csv(\"final_combined_news_channel_data.csv\", index = False)"
   ]
  },
  {
   "cell_type": "code",
   "execution_count": 13,
   "id": "4a2b89ce-ad15-4f38-aa49-e36d97f14a8d",
   "metadata": {},
   "outputs": [
    {
     "data": {
      "text/html": [
       "<div>\n",
       "<style scoped>\n",
       "    .dataframe tbody tr th:only-of-type {\n",
       "        vertical-align: middle;\n",
       "    }\n",
       "\n",
       "    .dataframe tbody tr th {\n",
       "        vertical-align: top;\n",
       "    }\n",
       "\n",
       "    .dataframe thead th {\n",
       "        text-align: right;\n",
       "    }\n",
       "</style>\n",
       "<table border=\"1\" class=\"dataframe\">\n",
       "  <thead>\n",
       "    <tr style=\"text-align: right;\">\n",
       "      <th></th>\n",
       "      <th>commentId</th>\n",
       "      <th>videoId</th>\n",
       "      <th>uniqueAuthorId</th>\n",
       "      <th>authorChannelUrl</th>\n",
       "      <th>author</th>\n",
       "      <th>likeCount</th>\n",
       "      <th>publishedAt</th>\n",
       "      <th>updatedAt</th>\n",
       "      <th>totalReplyCount</th>\n",
       "      <th>isPublic</th>\n",
       "      <th>news</th>\n",
       "    </tr>\n",
       "  </thead>\n",
       "  <tbody>\n",
       "    <tr>\n",
       "      <th>0</th>\n",
       "      <td>UgyObNOCTq2-f29Vu014AaABAg</td>\n",
       "      <td>dzl5Yx5-hDw</td>\n",
       "      <td>@markio2010</td>\n",
       "      <td>@markio2010</td>\n",
       "      <td>@markio2010</td>\n",
       "      <td>0</td>\n",
       "      <td>2024-07-30T21:51:44Z</td>\n",
       "      <td>2024-07-30T21:52:18Z</td>\n",
       "      <td>0</td>\n",
       "      <td>True</td>\n",
       "      <td>AAAI2024CNNCommentsParsed</td>\n",
       "    </tr>\n",
       "  </tbody>\n",
       "</table>\n",
       "</div>"
      ],
      "text/plain": [
       "                    commentId      videoId uniqueAuthorId authorChannelUrl  \\\n",
       "0  UgyObNOCTq2-f29Vu014AaABAg  dzl5Yx5-hDw    @markio2010      @markio2010   \n",
       "\n",
       "        author  likeCount           publishedAt             updatedAt  \\\n",
       "0  @markio2010          0  2024-07-30T21:51:44Z  2024-07-30T21:52:18Z   \n",
       "\n",
       "   totalReplyCount  isPublic                       news  \n",
       "0                0      True  AAAI2024CNNCommentsParsed  "
      ]
     },
     "execution_count": 13,
     "metadata": {},
     "output_type": "execute_result"
    }
   ],
   "source": [
    "df_final.head(1)"
   ]
  },
  {
   "cell_type": "code",
   "execution_count": 14,
   "id": "546cf980-00a5-48cb-9f0a-c3e63ec76092",
   "metadata": {},
   "outputs": [
    {
     "data": {
      "text/html": [
       "<div>\n",
       "<style scoped>\n",
       "    .dataframe tbody tr th:only-of-type {\n",
       "        vertical-align: middle;\n",
       "    }\n",
       "\n",
       "    .dataframe tbody tr th {\n",
       "        vertical-align: top;\n",
       "    }\n",
       "\n",
       "    .dataframe thead th {\n",
       "        text-align: right;\n",
       "    }\n",
       "</style>\n",
       "<table border=\"1\" class=\"dataframe\">\n",
       "  <thead>\n",
       "    <tr style=\"text-align: right;\">\n",
       "      <th></th>\n",
       "      <th>commentId</th>\n",
       "      <th>videoId</th>\n",
       "      <th>uniqueAuthorId</th>\n",
       "      <th>authorChannelUrl</th>\n",
       "      <th>author</th>\n",
       "      <th>likeCount</th>\n",
       "      <th>publishedAt</th>\n",
       "      <th>updatedAt</th>\n",
       "      <th>totalReplyCount</th>\n",
       "      <th>isPublic</th>\n",
       "      <th>news</th>\n",
       "    </tr>\n",
       "  </thead>\n",
       "  <tbody>\n",
       "    <tr>\n",
       "      <th>766176</th>\n",
       "      <td>UgxBe5QOZp3en7lmBBd4AaABAg</td>\n",
       "      <td>_6rQmvko18M</td>\n",
       "      <td>@thetasworld</td>\n",
       "      <td>@thetasworld</td>\n",
       "      <td>@thetasworld</td>\n",
       "      <td>0</td>\n",
       "      <td>2024-07-21T04:38:40Z</td>\n",
       "      <td>2024-07-21T04:38:54Z</td>\n",
       "      <td>0</td>\n",
       "      <td>True</td>\n",
       "      <td>AAAI2024CNNCommentsParsed</td>\n",
       "    </tr>\n",
       "  </tbody>\n",
       "</table>\n",
       "</div>"
      ],
      "text/plain": [
       "                         commentId      videoId uniqueAuthorId  \\\n",
       "766176  UgxBe5QOZp3en7lmBBd4AaABAg  _6rQmvko18M   @thetasworld   \n",
       "\n",
       "       authorChannelUrl        author  likeCount           publishedAt  \\\n",
       "766176     @thetasworld  @thetasworld          0  2024-07-21T04:38:40Z   \n",
       "\n",
       "                   updatedAt  totalReplyCount  isPublic  \\\n",
       "766176  2024-07-21T04:38:54Z                0      True   \n",
       "\n",
       "                             news  \n",
       "766176  AAAI2024CNNCommentsParsed  "
      ]
     },
     "execution_count": 14,
     "metadata": {},
     "output_type": "execute_result"
    }
   ],
   "source": [
    "df_final[df_final[\"commentId\"] == \"UgxBe5QOZp3en7lmBBd4AaABAg\"]"
   ]
  },
  {
   "cell_type": "code",
   "execution_count": 15,
   "id": "68884ba6-e00a-49a6-910a-16ed26a5a59c",
   "metadata": {},
   "outputs": [
    {
     "data": {
      "text/plain": [
       "['AAAI2024CNNCommentsParsed',\n",
       " 'AAAI2024FoxNewsCommentsParsed',\n",
       " 'PatternsMSNBC2024Parsed']"
      ]
     },
     "execution_count": 15,
     "metadata": {},
     "output_type": "execute_result"
    }
   ],
   "source": [
    "news_data_folders"
   ]
  },
  {
   "cell_type": "code",
   "execution_count": 16,
   "id": "aff92e05-31f9-4fda-b425-c5d4598898ef",
   "metadata": {},
   "outputs": [],
   "source": [
    "path_dict = {\"AAAI2024CNNCommentsParsed\":\"extracted_text_cnn\", \n",
    "             \"AAAI2024FoxNewsCommentsParsed\":\"extracted_text\", \n",
    "             \"PatternsMSNBC2024Parsed\":\"data_extracted\"}"
   ]
  },
  {
   "cell_type": "code",
   "execution_count": 17,
   "id": "78871592-ec04-423b-bf40-e4d14f87415f",
   "metadata": {},
   "outputs": [
    {
     "data": {
      "text/plain": [
       "['AAAI2024CNNCommentsParsed',\n",
       " 'AAAI2024FoxNewsCommentsParsed',\n",
       " 'PatternsMSNBC2024Parsed']"
      ]
     },
     "execution_count": 17,
     "metadata": {},
     "output_type": "execute_result"
    }
   ],
   "source": [
    "news_data_folders"
   ]
  },
  {
   "cell_type": "code",
   "execution_count": 18,
   "id": "865cbb17-2f38-4a9e-bf6d-a6f305daa9f7",
   "metadata": {},
   "outputs": [
    {
     "name": "stderr",
     "output_type": "stream",
     "text": [
      " 20%|██        | 4/20 [00:03<00:15,  1.03it/s]/tmp/ipykernel_1521051/643482808.py:7: DtypeWarning: Columns (6,9,10) have mixed types. Specify dtype option on import or set low_memory=False.\n",
      "  df = pd.read_csv(news_data_path+file)\n",
      " 25%|██▌       | 5/20 [00:04<00:15,  1.03s/it]/tmp/ipykernel_1521051/643482808.py:7: DtypeWarning: Columns (6,9,10) have mixed types. Specify dtype option on import or set low_memory=False.\n",
      "  df = pd.read_csv(news_data_path+file)\n",
      " 45%|████▌     | 9/20 [00:09<00:11,  1.07s/it]/tmp/ipykernel_1521051/643482808.py:7: DtypeWarning: Columns (6,10) have mixed types. Specify dtype option on import or set low_memory=False.\n",
      "  df = pd.read_csv(news_data_path+file)\n",
      "100%|██████████| 20/20 [00:18<00:00,  1.05it/s]\n",
      " 65%|██████▌   | 13/20 [00:23<00:12,  1.84s/it]/tmp/ipykernel_1521051/643482808.py:7: DtypeWarning: Columns (6,9,10) have mixed types. Specify dtype option on import or set low_memory=False.\n",
      "  df = pd.read_csv(news_data_path+file)\n",
      " 90%|█████████ | 18/20 [00:32<00:03,  1.81s/it]/tmp/ipykernel_1521051/643482808.py:7: DtypeWarning: Columns (6,9,10) have mixed types. Specify dtype option on import or set low_memory=False.\n",
      "  df = pd.read_csv(news_data_path+file)\n",
      "100%|██████████| 20/20 [00:36<00:00,  1.82s/it]\n",
      "100%|██████████| 22/22 [00:25<00:00,  1.16s/it]\n"
     ]
    }
   ],
   "source": [
    "dataframe = []\n",
    "for news in news_data_folders:\n",
    "    news_data_path = main_path+news+\"/\"+path_dict[news]+\"/\"\n",
    "    news_data = os.listdir(news_data_path)\n",
    "    for file in tqdm(news_data):\n",
    "        try:\n",
    "            df = pd.read_csv(news_data_path+file)\n",
    "            df['news'] = [news]*len(df)\n",
    "            dataframe.append(df)\n",
    "        except Exception as e:\n",
    "            \n",
    "            df = pd.read_parquet(news_data_path+file)\n",
    "            df['news'] = [news]*len(df)\n",
    "            dataframe.append(df)\n",
    "            \n",
    "df_comments = pd.concat(dataframe, ignore_index=True)"
   ]
  },
  {
   "cell_type": "code",
   "execution_count": 19,
   "id": "88e2cb61-e00e-40a1-b1c0-f949dfea990d",
   "metadata": {},
   "outputs": [
    {
     "data": {
      "text/plain": [
       "news\n",
       "PatternsMSNBC2024Parsed          10078998\n",
       "AAAI2024FoxNewsCommentsParsed     6547411\n",
       "AAAI2024CNNCommentsParsed         3113231\n",
       "Name: count, dtype: int64"
      ]
     },
     "execution_count": 19,
     "metadata": {},
     "output_type": "execute_result"
    }
   ],
   "source": [
    "df_comments['news'].value_counts()"
   ]
  },
  {
   "cell_type": "code",
   "execution_count": 20,
   "id": "b4f7c9be-5cf8-427e-8b66-2ffe572de575",
   "metadata": {},
   "outputs": [
    {
     "data": {
      "text/html": [
       "<div>\n",
       "<style scoped>\n",
       "    .dataframe tbody tr th:only-of-type {\n",
       "        vertical-align: middle;\n",
       "    }\n",
       "\n",
       "    .dataframe tbody tr th {\n",
       "        vertical-align: top;\n",
       "    }\n",
       "\n",
       "    .dataframe thead th {\n",
       "        text-align: right;\n",
       "    }\n",
       "</style>\n",
       "<table border=\"1\" class=\"dataframe\">\n",
       "  <thead>\n",
       "    <tr style=\"text-align: right;\">\n",
       "      <th></th>\n",
       "      <th>commentId</th>\n",
       "      <th>text</th>\n",
       "      <th>videoId</th>\n",
       "      <th>uniqueAuthorId</th>\n",
       "      <th>authorChannelUrl</th>\n",
       "      <th>author</th>\n",
       "      <th>likeCount</th>\n",
       "      <th>publishedAt</th>\n",
       "      <th>updatedAt</th>\n",
       "      <th>totalReplyCount</th>\n",
       "      <th>isPublic</th>\n",
       "      <th>news</th>\n",
       "      <th>video_id</th>\n",
       "    </tr>\n",
       "  </thead>\n",
       "  <tbody>\n",
       "    <tr>\n",
       "      <th>0</th>\n",
       "      <td>UgyrSCJIzw_DvFUn9Ip4AaABAg</td>\n",
       "      <td>No to the Olympics, boycott!</td>\n",
       "      <td>pFyACme3Hsk</td>\n",
       "      <td>@DemonDog444</td>\n",
       "      <td>@DemonDog444</td>\n",
       "      <td>@DemonDog444</td>\n",
       "      <td>0</td>\n",
       "      <td>2024-08-01T18:22:25Z</td>\n",
       "      <td>2024-08-01T18:22:25Z</td>\n",
       "      <td>0</td>\n",
       "      <td>True</td>\n",
       "      <td>AAAI2024CNNCommentsParsed</td>\n",
       "      <td>NaN</td>\n",
       "    </tr>\n",
       "  </tbody>\n",
       "</table>\n",
       "</div>"
      ],
      "text/plain": [
       "                    commentId                          text      videoId  \\\n",
       "0  UgyrSCJIzw_DvFUn9Ip4AaABAg  No to the Olympics, boycott!  pFyACme3Hsk   \n",
       "\n",
       "  uniqueAuthorId authorChannelUrl        author likeCount  \\\n",
       "0   @DemonDog444     @DemonDog444  @DemonDog444         0   \n",
       "\n",
       "            publishedAt             updatedAt totalReplyCount isPublic  \\\n",
       "0  2024-08-01T18:22:25Z  2024-08-01T18:22:25Z               0     True   \n",
       "\n",
       "                        news video_id  \n",
       "0  AAAI2024CNNCommentsParsed      NaN  "
      ]
     },
     "execution_count": 20,
     "metadata": {},
     "output_type": "execute_result"
    }
   ],
   "source": [
    "df_comments.head(1)"
   ]
  },
  {
   "cell_type": "code",
   "execution_count": 21,
   "id": "b38b90ff-149b-47ee-9ee5-4077806ca761",
   "metadata": {},
   "outputs": [],
   "source": [
    "df_comments_msnbc = df_comments[df_comments['news'] == \"PatternsMSNBC2024Parsed\"].reset_index( drop = True)"
   ]
  },
  {
   "cell_type": "code",
   "execution_count": 22,
   "id": "727eef83-dd02-4f94-b317-05e582e0f537",
   "metadata": {},
   "outputs": [],
   "source": [
    "df_comments_fox = df_comments[df_comments['news'] == \"AAAI2024FoxNewsCommentsParsed\"].reset_index( drop = True)"
   ]
  },
  {
   "cell_type": "code",
   "execution_count": 23,
   "id": "5bd112de-cb25-4d26-9b7f-540067ab2fc2",
   "metadata": {},
   "outputs": [],
   "source": [
    "df_comments_cnn = df_comments[df_comments['news'] == \"AAAI2024CNNCommentsParsed\"].reset_index( drop = True)"
   ]
  },
  {
   "cell_type": "code",
   "execution_count": 24,
   "id": "b9becc92-a120-4cac-bb2a-ee43cc39a2b9",
   "metadata": {},
   "outputs": [],
   "source": [
    "unique_authors_all = set(df_comments_cnn['uniqueAuthorId']) & set(df_comments_fox['uniqueAuthorId']) & set(df_comments_msnbc['uniqueAuthorId'])"
   ]
  },
  {
   "cell_type": "code",
   "execution_count": 25,
   "id": "dc4ed926-6121-432a-b607-5990b89b678b",
   "metadata": {},
   "outputs": [
    {
     "data": {
      "text/plain": [
       "160351"
      ]
     },
     "execution_count": 25,
     "metadata": {},
     "output_type": "execute_result"
    }
   ],
   "source": [
    "len(unique_authors_all)"
   ]
  },
  {
   "cell_type": "code",
   "execution_count": 56,
   "id": "a14708eb-4d6f-4218-9db3-267daa6c4ec1",
   "metadata": {},
   "outputs": [
    {
     "data": {
      "text/plain": [
       "1286851"
      ]
     },
     "execution_count": 56,
     "metadata": {},
     "output_type": "execute_result"
    }
   ],
   "source": [
    "df_comments_msnbc['uniqueAuthorId'].nunique()"
   ]
  },
  {
   "cell_type": "code",
   "execution_count": 59,
   "id": "b1553b4f-7960-446a-a737-746eefcc91d4",
   "metadata": {},
   "outputs": [
    {
     "data": {
      "text/plain": [
       "17942"
      ]
     },
     "execution_count": 59,
     "metadata": {},
     "output_type": "execute_result"
    }
   ],
   "source": [
    "df_comments_msnbc['video_id'].nunique()"
   ]
  },
  {
   "cell_type": "code",
   "execution_count": 99,
   "id": "60c7c731-826d-4960-8366-8d34b50bde8b",
   "metadata": {},
   "outputs": [],
   "source": [
    "df_c = df_comments_cnn.drop_duplicates(['videoId'], ignore_index = True)"
   ]
  },
  {
   "cell_type": "code",
   "execution_count": 102,
   "id": "2f2b7a63-d3c8-44fd-8158-ca3e7e8c1eb3",
   "metadata": {},
   "outputs": [
    {
     "name": "stderr",
     "output_type": "stream",
     "text": [
      "/tmp/ipykernel_1521051/3686152447.py:1: SettingWithCopyWarning: \n",
      "A value is trying to be set on a copy of a slice from a DataFrame.\n",
      "Try using .loc[row_indexer,col_indexer] = value instead\n",
      "\n",
      "See the caveats in the documentation: https://pandas.pydata.org/pandas-docs/stable/user_guide/indexing.html#returning-a-view-versus-a-copy\n",
      "  df_c['channelName'] = \"CNN\"\n"
     ]
    }
   ],
   "source": [
    "df_c['channelName'] = \"CNN\""
   ]
  },
  {
   "cell_type": "code",
   "execution_count": 137,
   "id": "e34e946a-2bbc-4fc4-9f22-e490684b335a",
   "metadata": {},
   "outputs": [],
   "source": [
    "df_c.to_csv(\"df_c.csv\", index = False)"
   ]
  },
  {
   "cell_type": "code",
   "execution_count": 106,
   "id": "a7cfe356-940c-40b6-8ded-ab409dce8210",
   "metadata": {},
   "outputs": [
    {
     "name": "stderr",
     "output_type": "stream",
     "text": [
      "/tmp/ipykernel_1521051/143832813.py:2: SettingWithCopyWarning: \n",
      "A value is trying to be set on a copy of a slice from a DataFrame.\n",
      "Try using .loc[row_indexer,col_indexer] = value instead\n",
      "\n",
      "See the caveats in the documentation: https://pandas.pydata.org/pandas-docs/stable/user_guide/indexing.html#returning-a-view-versus-a-copy\n",
      "  df_f['channelName'] = \"Fox\"\n"
     ]
    }
   ],
   "source": [
    "df_f = df_comments_fox.drop_duplicates(['videoId'], ignore_index = True)\n",
    "df_f['channelName'] = \"Fox\""
   ]
  },
  {
   "cell_type": "code",
   "execution_count": 138,
   "id": "14b4dae3-0cf8-48b9-9216-a1dda917755b",
   "metadata": {},
   "outputs": [],
   "source": [
    "df_f.to_csv(\"df_f.csv\", index = False)"
   ]
  },
  {
   "cell_type": "code",
   "execution_count": 131,
   "id": "1e53a342-22bf-4b31-92e6-38113423ca7a",
   "metadata": {},
   "outputs": [
    {
     "name": "stderr",
     "output_type": "stream",
     "text": [
      "/tmp/ipykernel_1521051/491423187.py:2: SettingWithCopyWarning: \n",
      "A value is trying to be set on a copy of a slice from a DataFrame.\n",
      "Try using .loc[row_indexer,col_indexer] = value instead\n",
      "\n",
      "See the caveats in the documentation: https://pandas.pydata.org/pandas-docs/stable/user_guide/indexing.html#returning-a-view-versus-a-copy\n",
      "  df_m['channelName'] = \"MSNBC\"\n"
     ]
    }
   ],
   "source": [
    "df_m = df_comments_msnbc.drop_duplicates(['video_id'], ignore_index = True)\n",
    "df_m['channelName'] = \"MSNBC\""
   ]
  },
  {
   "cell_type": "code",
   "execution_count": 139,
   "id": "fb18cdb7-41be-480b-b9bb-1b3e1c31cfd5",
   "metadata": {},
   "outputs": [],
   "source": [
    "df_m.to_csv(\"df_m.csv\", index = False)"
   ]
  },
  {
   "cell_type": "code",
   "execution_count": 110,
   "id": "4f29be27-d864-41c6-a336-77e37cd4a50d",
   "metadata": {},
   "outputs": [],
   "source": [
    "PTH = \"news_channels_transcripts/\""
   ]
  },
  {
   "cell_type": "code",
   "execution_count": 111,
   "id": "39a7d56c-b728-4046-890c-5fcb46ec96fe",
   "metadata": {},
   "outputs": [],
   "source": [
    "\n",
    "def get_transcript(vid):\n",
    "\n",
    "    try:\n",
    "        data = open(PTH+vid+\".json\")\n",
    "        return True\n",
    "    except:\n",
    "        return False"
   ]
  },
  {
   "cell_type": "code",
   "execution_count": 114,
   "id": "0e618807-07c6-45ab-a284-c9b64ebb7550",
   "metadata": {},
   "outputs": [
    {
     "name": "stderr",
     "output_type": "stream",
     "text": [
      "/tmp/ipykernel_1521051/2443027779.py:1: SettingWithCopyWarning: \n",
      "A value is trying to be set on a copy of a slice from a DataFrame.\n",
      "Try using .loc[row_indexer,col_indexer] = value instead\n",
      "\n",
      "See the caveats in the documentation: https://pandas.pydata.org/pandas-docs/stable/user_guide/indexing.html#returning-a-view-versus-a-copy\n",
      "  df_c['Is_transcript'] = df_c['videoId'].apply(get_transcript)\n"
     ]
    }
   ],
   "source": [
    "df_c['Is_transcript'] = df_c['videoId'].apply(get_transcript)"
   ]
  },
  {
   "cell_type": "code",
   "execution_count": 116,
   "id": "c73e22b1-6ba0-4d1f-964b-d832543d928f",
   "metadata": {},
   "outputs": [
    {
     "data": {
      "text/plain": [
       "Is_transcript\n",
       "True     1790\n",
       "False     470\n",
       "Name: count, dtype: int64"
      ]
     },
     "execution_count": 116,
     "metadata": {},
     "output_type": "execute_result"
    }
   ],
   "source": [
    "df_c['Is_transcript'].value_counts()"
   ]
  },
  {
   "cell_type": "code",
   "execution_count": 117,
   "id": "facf2136-f568-44a6-9d01-c7ea6d403abb",
   "metadata": {},
   "outputs": [],
   "source": [
    "# 1790"
   ]
  },
  {
   "cell_type": "code",
   "execution_count": 118,
   "id": "6b6f2000-bac4-443e-abae-ce3ee9278d8d",
   "metadata": {},
   "outputs": [
    {
     "name": "stderr",
     "output_type": "stream",
     "text": [
      "/tmp/ipykernel_1521051/96475012.py:1: SettingWithCopyWarning: \n",
      "A value is trying to be set on a copy of a slice from a DataFrame.\n",
      "Try using .loc[row_indexer,col_indexer] = value instead\n",
      "\n",
      "See the caveats in the documentation: https://pandas.pydata.org/pandas-docs/stable/user_guide/indexing.html#returning-a-view-versus-a-copy\n",
      "  df_f['Is_transcript'] = df_f['videoId'].apply(get_transcript)\n"
     ]
    }
   ],
   "source": [
    "df_f['Is_transcript'] = df_f['videoId'].apply(get_transcript)"
   ]
  },
  {
   "cell_type": "code",
   "execution_count": 119,
   "id": "06d51e82-0918-4b2e-bfef-d51d3b90805b",
   "metadata": {},
   "outputs": [
    {
     "data": {
      "text/plain": [
       "Is_transcript\n",
       "True     3769\n",
       "False    3420\n",
       "Name: count, dtype: int64"
      ]
     },
     "execution_count": 119,
     "metadata": {},
     "output_type": "execute_result"
    }
   ],
   "source": [
    "df_f['Is_transcript'].value_counts()"
   ]
  },
  {
   "cell_type": "code",
   "execution_count": 132,
   "id": "a07a54cd-2408-4813-a92a-75d2b10a658f",
   "metadata": {},
   "outputs": [
    {
     "name": "stderr",
     "output_type": "stream",
     "text": [
      "/tmp/ipykernel_1521051/2513390033.py:1: SettingWithCopyWarning: \n",
      "A value is trying to be set on a copy of a slice from a DataFrame.\n",
      "Try using .loc[row_indexer,col_indexer] = value instead\n",
      "\n",
      "See the caveats in the documentation: https://pandas.pydata.org/pandas-docs/stable/user_guide/indexing.html#returning-a-view-versus-a-copy\n",
      "  df_m['Is_transcript'] = df_m['video_id'].apply(get_transcript)\n"
     ]
    }
   ],
   "source": [
    "df_m['Is_transcript'] = df_m['video_id'].apply(get_transcript)"
   ]
  },
  {
   "cell_type": "code",
   "execution_count": 134,
   "id": "8b99bbf9-03b4-4f14-a234-be0f35b893c1",
   "metadata": {},
   "outputs": [
    {
     "data": {
      "text/plain": [
       "Is_transcript\n",
       "True     11311\n",
       "False     6631\n",
       "Name: count, dtype: int64"
      ]
     },
     "execution_count": 134,
     "metadata": {},
     "output_type": "execute_result"
    }
   ],
   "source": [
    "df_m['Is_transcript'].value_counts()"
   ]
  },
  {
   "cell_type": "code",
   "execution_count": 135,
   "id": "67a8b4a1-5e2b-4b20-b3b1-0e3e52178b7d",
   "metadata": {},
   "outputs": [],
   "source": [
    "transcripts_count = [11311, 1790, 3769]\n",
    "channel = [\"MSNBC\", \"CNN\", \"FOX\"]"
   ]
  },
  {
   "cell_type": "code",
   "execution_count": 136,
   "id": "abe5db27-b38e-4bc6-9e43-e055b026f487",
   "metadata": {},
   "outputs": [
    {
     "data": {
      "image/png": "[encoded data removed]",
      "text/plain": [
       "<Figure size 720x576 with 1 Axes>"
      ]
     },
     "metadata": {
      "needs_background": "light"
     },
     "output_type": "display_data"
    }
   ],
   "source": [
    "plt.figure(figsize = (10, 8))\n",
    "plt.bar(channel, transcripts_count)\n",
    "plt.title(\" Number of Transcripts Downloaded in Each Channel\")\n",
    "plt.ylabel(\"Number of Transcripts\")\n",
    "plt.xlabel(\"Channel Name\")\n",
    "plt.savefig(\"freq_transcripts.jpg\")"
   ]
  },
  {
   "cell_type": "code",
   "execution_count": null,
   "id": "a24184d0-6f17-4ed6-8a47-c7eb3810ea02",
   "metadata": {},
   "outputs": [],
   "source": []
  },
  {
   "cell_type": "code",
   "execution_count": null,
   "id": "9b588d04-3cd6-4c18-8371-ca57cc5afd05",
   "metadata": {},
   "outputs": [],
   "source": []
  },
  {
   "cell_type": "code",
   "execution_count": 62,
   "id": "d2409653-31ab-4fab-8fba-998faec732ee",
   "metadata": {},
   "outputs": [],
   "source": [
    "import matplotlib.pyplot as plt\n",
    "import pandas as pd\n",
    "import seaborn as sns"
   ]
  },
  {
   "cell_type": "code",
   "execution_count": 64,
   "id": "4964c1a4-8336-41ec-8ef0-c529be74a5ad",
   "metadata": {},
   "outputs": [],
   "source": [
    "#sns.barplot(df_comments_msnbc['video_id'].nunique())"
   ]
  },
  {
   "cell_type": "code",
   "execution_count": 78,
   "id": "e75400e1-a7dc-47ec-9e86-f50dfbb76159",
   "metadata": {},
   "outputs": [],
   "source": [
    "\n",
    "channel_comment_counts = [df_comments_msnbc['uniqueAuthorId'].nunique(), df_comments_cnn['uniqueAuthorId'].nunique(),\n",
    "                         df_comments_fox['uniqueAuthorId'].nunique()]\n",
    "\n",
    "channel = [\"MSNBC\", \"CNN\", \"FOX\"]\n",
    "\n",
    "channel_comment_counts = [x/1000000 for x in channel_comment_counts]"
   ]
  },
  {
   "cell_type": "code",
   "execution_count": 79,
   "id": "7995c3be-f705-453e-9512-eba125b3d8d3",
   "metadata": {},
   "outputs": [
    {
     "data": {
      "text/plain": [
       "[1.286851, 0.847016, 0.979856]"
      ]
     },
     "execution_count": 79,
     "metadata": {},
     "output_type": "execute_result"
    }
   ],
   "source": [
    "channel_comment_counts"
   ]
  },
  {
   "cell_type": "code",
   "execution_count": 91,
   "id": "dfa5cffb-b0cf-4ae9-8033-8baf4f9550ea",
   "metadata": {},
   "outputs": [
    {
     "data": {
      "image/png": "[encoded data removed]",
      "text/plain": [
       "<Figure size 720x576 with 1 Axes>"
      ]
     },
     "metadata": {
      "needs_background": "light"
     },
     "output_type": "display_data"
    }
   ],
   "source": [
    "plt.figure(figsize = (10, 8))\n",
    "plt.bar(channel, channel_comment_counts)\n",
    "plt.title(\" Number of Comments in Each Channel (in Millions)\")\n",
    "plt.ylabel(\"Comments in Millions\")\n",
    "plt.xlabel(\"Channel Name\")\n",
    "plt.savefig(\"freq_comments.jpg\")"
   ]
  },
  {
   "cell_type": "code",
   "execution_count": null,
   "id": "3e5d8241-36a6-4afc-817b-ef6df49bcb0e",
   "metadata": {},
   "outputs": [],
   "source": []
  },
  {
   "cell_type": "code",
   "execution_count": null,
   "id": "a0177901-ff2d-4ab6-a3d7-7d5ae112518c",
   "metadata": {},
   "outputs": [],
   "source": []
  },
  {
   "cell_type": "code",
   "execution_count": 89,
   "id": "2fd283bf-a7d6-45de-a677-c361a2189797",
   "metadata": {},
   "outputs": [],
   "source": [
    "channel_video_counts = [df_comments_msnbc['video_id'].nunique(), df_comments_cnn['videoId'].nunique(),\n",
    "                         df_comments_fox['videoId'].nunique()]\n",
    "channel = [\"MSNBC\", \"CNN\", \"FOX\"]\n",
    "channel_video_counts = [x/1000 for x in channel_video_counts]"
   ]
  },
  {
   "cell_type": "code",
   "execution_count": 92,
   "id": "a6803e97-f3c3-4912-aab2-fc1ba459ec6a",
   "metadata": {},
   "outputs": [
    {
     "data": {
      "image/png": "[encoded data removed]",
      "text/plain": [
       "<Figure size 720x576 with 1 Axes>"
      ]
     },
     "metadata": {
      "needs_background": "light"
     },
     "output_type": "display_data"
    }
   ],
   "source": [
    "plt.figure(figsize = (10, 8))\n",
    "plt.bar(channel, channel_video_counts)\n",
    "plt.title(\" Number of Videos in Each Channel (in Thousands)\")\n",
    "plt.ylabel(\"Videos in Thousands\")\n",
    "plt.xlabel(\"Channel Name\")\n",
    "plt.savefig(\"counts_videos.jpg\")"
   ]
  },
  {
   "cell_type": "code",
   "execution_count": null,
   "id": "51052c2c-7531-4680-a590-98e726f0aa5b",
   "metadata": {},
   "outputs": [],
   "source": []
  },
  {
   "cell_type": "code",
   "execution_count": null,
   "id": "9feb20bf-726e-472e-a56d-8bde824b6a1f",
   "metadata": {},
   "outputs": [],
   "source": []
  },
  {
   "cell_type": "code",
   "execution_count": null,
   "id": "e19f56d6-729a-4ba3-bfd7-45e793709cf4",
   "metadata": {},
   "outputs": [],
   "source": []
  },
  {
   "cell_type": "code",
   "execution_count": null,
   "id": "d0b2dd2e-8aa9-4688-9a8d-dc424d7391a8",
   "metadata": {},
   "outputs": [],
   "source": []
  },
  {
   "cell_type": "code",
   "execution_count": null,
   "id": "dd4726ec-9f1b-41fe-82e6-20c3f686b449",
   "metadata": {},
   "outputs": [],
   "source": []
  },
  {
   "cell_type": "code",
   "execution_count": null,
   "id": "6ea9013b-2bba-483f-b5ef-ba05526f0360",
   "metadata": {},
   "outputs": [],
   "source": []
  },
  {
   "cell_type": "code",
   "execution_count": null,
   "id": "18b3329d-0ea7-4cd1-804c-60d5d960feca",
   "metadata": {},
   "outputs": [],
   "source": []
  },
  {
   "cell_type": "code",
   "execution_count": null,
   "id": "7ca722d6-dabb-493d-a6d8-5bc49fc3d7d4",
   "metadata": {},
   "outputs": [],
   "source": []
  },
  {
   "cell_type": "code",
   "execution_count": null,
   "id": "ce3d5c3a-e555-453e-affc-43effe474b07",
   "metadata": {},
   "outputs": [],
   "source": []
  },
  {
   "cell_type": "code",
   "execution_count": null,
   "id": "6c3b40d3-9451-4ca5-bc9f-9e5adb9dd9b9",
   "metadata": {},
   "outputs": [],
   "source": []
  },
  {
   "cell_type": "code",
   "execution_count": null,
   "id": "4a04910d-1018-4d6b-baa6-3e4920076125",
   "metadata": {},
   "outputs": [],
   "source": []
  },
  {
   "cell_type": "code",
   "execution_count": null,
   "id": "d7ae36de-bb50-4940-9ae5-60bc9fbd57e0",
   "metadata": {},
   "outputs": [],
   "source": []
  },
  {
   "cell_type": "code",
   "execution_count": null,
   "id": "230a961d-c344-488c-bc06-7fbd91a55097",
   "metadata": {},
   "outputs": [],
   "source": []
  },
  {
   "cell_type": "code",
   "execution_count": null,
   "id": "db3e452a-c15e-487d-85c7-e704b195b5f1",
   "metadata": {},
   "outputs": [],
   "source": []
  },
  {
   "cell_type": "code",
   "execution_count": null,
   "id": "3bef4a36-2ed7-46a7-964d-e183adf8953b",
   "metadata": {},
   "outputs": [],
   "source": []
  },
  {
   "cell_type": "code",
   "execution_count": 30,
   "id": "7708afe3-9f7f-48e9-9d14-29b85442fbce",
   "metadata": {},
   "outputs": [],
   "source": [
    "df_comments_msnbc_unique = df_comments_msnbc[df_comments_msnbc['uniqueAuthorId'].isin(list(unique_authors_all)[:1000])]"
   ]
  },
  {
   "cell_type": "code",
   "execution_count": 31,
   "id": "c16bf510-0259-4d56-9d2a-50cf5396a224",
   "metadata": {},
   "outputs": [],
   "source": [
    "df_comments_fox_unique = df_comments_fox[df_comments_fox['uniqueAuthorId'].isin(list(unique_authors_all)[:1000])]"
   ]
  },
  {
   "cell_type": "code",
   "execution_count": 32,
   "id": "cd9cf5a9-7a0d-44b9-be9d-893edc64d67a",
   "metadata": {},
   "outputs": [],
   "source": [
    "df_comments_cnn_unique = df_comments_cnn[df_comments_cnn['uniqueAuthorId'].isin(list(unique_authors_all)[:1000])]"
   ]
  },
  {
   "cell_type": "code",
   "execution_count": 37,
   "id": "ccba3bde-d166-49f8-8ff7-88b447893749",
   "metadata": {},
   "outputs": [
    {
     "data": {
      "text/plain": [
       "1000"
      ]
     },
     "execution_count": 37,
     "metadata": {},
     "output_type": "execute_result"
    }
   ],
   "source": [
    "df_comments_cnn_unique['uniqueAuthorId'].nunique()"
   ]
  },
  {
   "cell_type": "code",
   "execution_count": 46,
   "id": "328622b1-ea54-4dd8-bbbd-bc31a2bcac13",
   "metadata": {},
   "outputs": [
    {
     "name": "stderr",
     "output_type": "stream",
     "text": [
      "/tmp/ipykernel_1521051/3442951811.py:1: SettingWithCopyWarning: \n",
      "A value is trying to be set on a copy of a slice from a DataFrame\n",
      "\n",
      "See the caveats in the documentation: https://pandas.pydata.org/pandas-docs/stable/user_guide/indexing.html#returning-a-view-versus-a-copy\n",
      "  df_comments_msnbc_unique.drop_duplicates(['uniqueAuthorId'], ignore_index = True, inplace = True)\n",
      "/tmp/ipykernel_1521051/3442951811.py:2: SettingWithCopyWarning: \n",
      "A value is trying to be set on a copy of a slice from a DataFrame\n",
      "\n",
      "See the caveats in the documentation: https://pandas.pydata.org/pandas-docs/stable/user_guide/indexing.html#returning-a-view-versus-a-copy\n",
      "  df_comments_fox_unique.drop_duplicates(['uniqueAuthorId'], ignore_index = True, inplace = True)\n",
      "/tmp/ipykernel_1521051/3442951811.py:3: SettingWithCopyWarning: \n",
      "A value is trying to be set on a copy of a slice from a DataFrame\n",
      "\n",
      "See the caveats in the documentation: https://pandas.pydata.org/pandas-docs/stable/user_guide/indexing.html#returning-a-view-versus-a-copy\n",
      "  df_comments_cnn_unique.drop_duplicates(['uniqueAuthorId'], ignore_index = True, inplace = True)\n"
     ]
    }
   ],
   "source": [
    "df_comments_msnbc_unique.drop_duplicates(['uniqueAuthorId'], ignore_index = True, inplace = True)\n",
    "df_comments_fox_unique.drop_duplicates(['uniqueAuthorId'], ignore_index = True, inplace = True)\n",
    "df_comments_cnn_unique.drop_duplicates(['uniqueAuthorId'], ignore_index = True, inplace = True)"
   ]
  },
  {
   "cell_type": "code",
   "execution_count": 47,
   "id": "24886a2a-fd08-41b8-abc3-e4528b9d2793",
   "metadata": {},
   "outputs": [
    {
     "data": {
      "text/plain": [
       "((1000, 13), (1000, 13), (1000, 13))"
      ]
     },
     "execution_count": 47,
     "metadata": {},
     "output_type": "execute_result"
    }
   ],
   "source": [
    "df_comments_msnbc_unique.shape, df_comments_fox_unique.shape, df_comments_cnn_unique.shape"
   ]
  },
  {
   "cell_type": "code",
   "execution_count": null,
   "id": "ee991431-bd62-4938-83ba-b50c1c821374",
   "metadata": {},
   "outputs": [],
   "source": [
    "# 1. Mallikarjuna - MSNBC and Fox News\n",
    "# 2. Pravallika - MSNBC and CNN\n",
    "# 3. Rupa - CNN and Fox News"
   ]
  },
  {
   "cell_type": "code",
   "execution_count": 48,
   "id": "b87e353b-13c3-43f3-a65d-e9c89c1a36a5",
   "metadata": {},
   "outputs": [],
   "source": [
    "df_comments_cnn_unique.to_csv(\"commments_unique_users_from_CNN.csv\", index = False)"
   ]
  },
  {
   "cell_type": "code",
   "execution_count": 49,
   "id": "c70abbd5-ece8-4088-8e88-555b72ed556c",
   "metadata": {},
   "outputs": [],
   "source": [
    "df_comments_fox_unique.to_csv(\"commments_unique_users_from_Fox.csv\", index = False)"
   ]
  },
  {
   "cell_type": "code",
   "execution_count": 50,
   "id": "c3596823-083f-41b2-a787-897afd08264c",
   "metadata": {},
   "outputs": [],
   "source": [
    "df_comments_msnbc_unique.to_csv(\"commments_unique_users_from_MSNBC.csv\", index = False)"
   ]
  },
  {
   "cell_type": "code",
   "execution_count": null,
   "id": "1bb9597d-2f9c-405c-a09e-7bbb835eae41",
   "metadata": {},
   "outputs": [],
   "source": []
  }
 ],
 "metadata": {
  "kernelspec": {
   "display_name": "Python 3 (ipykernel)",
   "language": "python",
   "name": "python3"
  },
  "language_info": {
   "codemirror_mode": {
    "name": "ipython",
    "version": 3
   },
   "file_extension": ".py",
   "mimetype": "text/x-python",
   "name": "python",
   "nbconvert_exporter": "python",
   "pygments_lexer": "ipython3",
   "version": "3.8.10"
  }
 },
 "nbformat": 4,
 "nbformat_minor": 5
}
