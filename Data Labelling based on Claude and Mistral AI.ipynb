{
 "cells": [
  {
   "cell_type": "code",
   "execution_count": 6,
   "id": "cfb85c51-077c-4324-802c-31e7904e8c98",
   "metadata": {},
   "outputs": [],
   "source": [
    "import os\n",
    "import pandas as pd\n",
    "from tqdm import tqdm"
   ]
  },
  {
   "cell_type": "code",
   "execution_count": 7,
   "id": "fabfb9b0-7190-4d19-abe3-af964a94475a",
   "metadata": {},
   "outputs": [],
   "source": [
    "df_cnn = pd.read_csv(\"commments_unique_users_from_CNN.csv\")"
   ]
  },
  {
   "cell_type": "code",
   "execution_count": 8,
   "id": "2ec341d4-9261-4650-8b68-c45f669621bb",
   "metadata": {},
   "outputs": [],
   "source": [
    "df_fox = pd.read_csv(\"commments_unique_users_from_Fox.csv\")"
   ]
  },
  {
   "cell_type": "code",
   "execution_count": 9,
   "id": "ecdf3e6f-6949-4aa6-8a44-8c8b0a7ada38",
   "metadata": {},
   "outputs": [],
   "source": [
    "df_msnbc = pd.read_csv(\"commments_unique_users_from_MSNBC.csv\")"
   ]
  },
  {
   "cell_type": "code",
   "execution_count": 23,
   "id": "d7b13f36-a842-4561-9258-88963cbf6ecb",
   "metadata": {},
   "outputs": [
    {
     "name": "stderr",
     "output_type": "stream",
     "text": [
      "100%|██████████| 100/100 [00:00<00:00, 834.04it/s]\n"
     ]
    }
   ],
   "source": [
    "\n",
    "\n",
    "for user in tqdm(df_cnn['uniqueAuthorId'][:100]):\n",
    "\n",
    "    \n",
    "    prompt = \"\"\"\n",
    "                Based on the comments from a user on three different YouTube channels. Can you answer the following questions?\n",
    "                1. Can you assign the user to a political party, either republican or democratic, and why?\n",
    "                2. Which channel does the user like the most and why?\n",
    "                3. Return the result in a json format {\"political_party\":\"republican/democratic\", \"news_channel\":\"CNN/Fox/MSNBC\"}\n",
    "                Finally return 1, 2, and 3 data in json format\n",
    "                \"\"\"\n",
    "    prompt += \"CNN\" + \"\\n\"\n",
    "    prompt += str(list(df_cnn[df_cnn['uniqueAuthorId'] == user]['text'])) + \"\\n\"\n",
    "    \n",
    "\n",
    "    prompt += \"MSNBC\"+\"\\n\"\n",
    "    prompt += str(list(df_msnbc[df_msnbc['uniqueAuthorId'] == user]['text'])) + \"\\n\"\n",
    "    \n",
    "\n",
    "    prompt += \"FOX\" + \"\\n\"\n",
    "    prompt += str(list(df_fox[df_fox['uniqueAuthorId'] == user]['text'])) + \"\\n\"\n",
    "    \n",
    "    prompt += \"####################             \"+ user + \"         ####################\"\n",
    "    prompt += \"\\n\\n\\n\\n################################ PROMPT ENDING HERE ####################################################\"\n",
    "    \n",
    "    with open(\"prompts_for_political_party_and_news_channel_prediction.txt\", \"a\") as file:\n",
    "        file.write(prompt + \"\\n\")"
   ]
  },
  {
   "cell_type": "code",
   "execution_count": 14,
   "id": "be9a1042-9a2b-4c15-9521-670b64b4a441",
   "metadata": {},
   "outputs": [],
   "source": [
    "# print(prompt)"
   ]
  },
  {
   "cell_type": "code",
   "execution_count": 20,
   "id": "9cdc90b8-188e-45a1-9b15-18ac1a58bf57",
   "metadata": {},
   "outputs": [
    {
     "data": {
      "text/plain": [
       "'\\n                Based on the comments from a user on three different YouTube channels. Can you answer the following questions?\\n                1. Can you assign the user to a political party, either republican or democratic, and why?\\n                2. Which channel does the user like the most and why?\\n                3. Return the result in a json format {\"political_party\":\"republican/democratic\", \"news_channel\":\"CNN/Fox/MSNBC\"}\\n                Finally return 1, 2, and 3 data in json format\\n                CNN\\n[\\'He got fired because most people have no interest in watching him. He had a good run though as there was a time when he was one of the highest paid entertainers on CNN.\\']\\nMSNBC\\n[\\'Hey Joy.. how about accepting that debate challenge from Vivek?\\']\\nFOX\\n[\"Believe it or not, there are still a lot of people out there that think this is just a story of two people in love and nothing more. I get a bad vibe from the judge that oversaw this case and I wouldn\\'t be surprised if he lets Fani and Nathan off the hook.\"]\\n####################@ericj6559####################\\n\\n\\n\\n################################ PROMPT ENDING HERE ####################################################'"
      ]
     },
     "execution_count": 20,
     "metadata": {},
     "output_type": "execute_result"
    }
   ],
   "source": [
    "prompt"
   ]
  },
  {
   "cell_type": "code",
   "execution_count": null,
   "id": "184d1898-dc8a-4b2f-985f-7729cbcae568",
   "metadata": {},
   "outputs": [],
   "source": []
  },
  {
   "cell_type": "code",
   "execution_count": 24,
   "id": "f780172a-1fd5-4aaa-af9c-7900f495efc8",
   "metadata": {},
   "outputs": [
    {
     "name": "stderr",
     "output_type": "stream",
     "text": [
      "  0%|          | 0/100 [00:00<?, ?it/s]\n"
     ]
    }
   ],
   "source": [
    "\n",
    "for user in tqdm(df_cnn['uniqueAuthorId'][:100]):\n",
    "\n",
    "    break"
   ]
  },
  {
   "cell_type": "code",
   "execution_count": 25,
   "id": "6209ce63-2c73-42e8-a534-f831e8ce434c",
   "metadata": {},
   "outputs": [
    {
     "data": {
      "text/plain": [
       "'@ericj6559'"
      ]
     },
     "execution_count": 25,
     "metadata": {},
     "output_type": "execute_result"
    }
   ],
   "source": [
    "user"
   ]
  },
  {
   "cell_type": "code",
   "execution_count": 29,
   "id": "77d1c745-385e-45a2-a34f-0b596282e251",
   "metadata": {},
   "outputs": [
    {
     "data": {
      "text/plain": [
       "'pgVZnVTKqMw'"
      ]
     },
     "execution_count": 29,
     "metadata": {},
     "output_type": "execute_result"
    }
   ],
   "source": [
    "df_cnn[df_cnn['uniqueAuthorId'] == user]['videoId'][0]"
   ]
  },
  {
   "cell_type": "code",
   "execution_count": null,
   "id": "15ab3dd3-c0a0-4bee-9589-5b33ac4f28dc",
   "metadata": {},
   "outputs": [],
   "source": []
  },
  {
   "cell_type": "code",
   "execution_count": null,
   "id": "c11e0281-d00c-4fc9-9612-c3d62c50e626",
   "metadata": {},
   "outputs": [],
   "source": []
  }
 ],
 "metadata": {
  "kernelspec": {
   "display_name": "Python 3 (ipykernel)",
   "language": "python",
   "name": "python3"
  },
  "language_info": {
   "codemirror_mode": {
    "name": "ipython",
    "version": 3
   },
   "file_extension": ".py",
   "mimetype": "text/x-python",
   "name": "python",
   "nbconvert_exporter": "python",
   "pygments_lexer": "ipython3",
   "version": "3.8.10"
  }
 },
 "nbformat": 4,
 "nbformat_minor": 5
}
